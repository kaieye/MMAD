{
 "cells": [
  {
   "cell_type": "code",
   "execution_count": 1,
   "metadata": {},
   "outputs": [
    {
     "name": "stderr",
     "output_type": "stream",
     "text": [
      "/root/miniconda3/lib/python3.9/site-packages/tqdm/auto.py:21: TqdmWarning: IProgress not found. Please update jupyter and ipywidgets. See https://ipywidgets.readthedocs.io/en/stable/user_install.html\n",
      "  from .autonotebook import tqdm as notebook_tqdm\n"
     ]
    },
    {
     "name": "stdout",
     "output_type": "stream",
     "text": [
      "Learning rate set to 0.036228\n",
      "0:\tlearn: 0.6918790\ttotal: 46.3ms\tremaining: 46.2s\n",
      "100:\tlearn: 0.2438571\ttotal: 99.3ms\tremaining: 884ms\n",
      "200:\tlearn: 0.1862170\ttotal: 152ms\tremaining: 603ms\n",
      "300:\tlearn: 0.1480544\ttotal: 205ms\tremaining: 476ms\n",
      "400:\tlearn: 0.1195621\ttotal: 257ms\tremaining: 383ms\n",
      "500:\tlearn: 0.0945044\ttotal: 306ms\tremaining: 305ms\n",
      "600:\tlearn: 0.0759277\ttotal: 357ms\tremaining: 237ms\n",
      "700:\tlearn: 0.0618895\ttotal: 408ms\tremaining: 174ms\n",
      "800:\tlearn: 0.0501660\ttotal: 460ms\tremaining: 114ms\n",
      "900:\tlearn: 0.0417279\ttotal: 509ms\tremaining: 55.9ms\n",
      "999:\tlearn: 0.0345691\ttotal: 551ms\tremaining: 0us\n",
      "COG model training is done!\n",
      "the shape of prediction for COG task is  (152,)\n",
      "the shape of prediction for COG task is  (154,)\n",
      "Learning rate set to 0.036203\n",
      "0:\tlearn: 0.6921285\ttotal: 640us\tremaining: 639ms\n",
      "100:\tlearn: 0.2461695\ttotal: 47.2ms\tremaining: 420ms\n",
      "200:\tlearn: 0.1853719\ttotal: 86.3ms\tremaining: 343ms\n",
      "300:\tlearn: 0.1454078\ttotal: 126ms\tremaining: 292ms\n",
      "400:\tlearn: 0.1141087\ttotal: 164ms\tremaining: 245ms\n",
      "500:\tlearn: 0.0867697\ttotal: 203ms\tremaining: 202ms\n",
      "600:\tlearn: 0.0663520\ttotal: 242ms\tremaining: 161ms\n",
      "700:\tlearn: 0.0513939\ttotal: 280ms\tremaining: 120ms\n",
      "800:\tlearn: 0.0408926\ttotal: 323ms\tremaining: 80.3ms\n",
      "900:\tlearn: 0.0334360\ttotal: 372ms\tremaining: 40.9ms\n",
      "999:\tlearn: 0.0276070\ttotal: 420ms\tremaining: 0us\n",
      "COG model training is done!\n",
      "the shape of prediction for COG task is  (154,)\n",
      "the shape of prediction for COG task is  (154,)\n",
      "Learning rate set to 0.036203\n",
      "0:\tlearn: 0.6924439\ttotal: 600us\tremaining: 600ms\n",
      "100:\tlearn: 0.2420365\ttotal: 43.4ms\tremaining: 386ms\n",
      "200:\tlearn: 0.1769178\ttotal: 85.6ms\tremaining: 340ms\n",
      "300:\tlearn: 0.1306868\ttotal: 127ms\tremaining: 295ms\n",
      "400:\tlearn: 0.1039755\ttotal: 169ms\tremaining: 252ms\n",
      "500:\tlearn: 0.0829046\ttotal: 210ms\tremaining: 209ms\n",
      "600:\tlearn: 0.0661757\ttotal: 252ms\tremaining: 167ms\n",
      "700:\tlearn: 0.0501308\ttotal: 294ms\tremaining: 125ms\n",
      "800:\tlearn: 0.0391796\ttotal: 336ms\tremaining: 83.4ms\n",
      "900:\tlearn: 0.0306806\ttotal: 378ms\tremaining: 41.5ms\n",
      "999:\tlearn: 0.0248023\ttotal: 419ms\tremaining: 0us\n",
      "COG model training is done!\n",
      "the shape of prediction for COG task is  (154,)\n",
      "the shape of prediction for COG task is  (154,)\n",
      "Learning rate set to 0.036216\n",
      "0:\tlearn: 0.6925475\ttotal: 530us\tremaining: 530ms\n",
      "100:\tlearn: 0.2227087\ttotal: 43.1ms\tremaining: 384ms\n",
      "200:\tlearn: 0.1619524\ttotal: 87.7ms\tremaining: 349ms\n",
      "300:\tlearn: 0.1242603\ttotal: 130ms\tremaining: 302ms\n",
      "400:\tlearn: 0.0994756\ttotal: 172ms\tremaining: 257ms\n",
      "500:\tlearn: 0.0773476\ttotal: 215ms\tremaining: 214ms\n",
      "600:\tlearn: 0.0630204\ttotal: 259ms\tremaining: 172ms\n",
      "700:\tlearn: 0.0509698\ttotal: 303ms\tremaining: 129ms\n",
      "800:\tlearn: 0.0421743\ttotal: 346ms\tremaining: 85.9ms\n",
      "900:\tlearn: 0.0349862\ttotal: 388ms\tremaining: 42.6ms\n",
      "999:\tlearn: 0.0295145\ttotal: 431ms\tremaining: 0us\n",
      "COG model training is done!\n",
      "the shape of prediction for COG task is  (154,)\n",
      "the shape of prediction for COG task is  (153,)\n",
      "Learning rate set to 0.03624\n",
      "0:\tlearn: 0.6926940\ttotal: 1.14ms\tremaining: 1.13s\n",
      "100:\tlearn: 0.2199932\ttotal: 42.4ms\tremaining: 377ms\n",
      "200:\tlearn: 0.1662861\ttotal: 81.8ms\tremaining: 325ms\n",
      "300:\tlearn: 0.1273648\ttotal: 121ms\tremaining: 282ms\n",
      "400:\tlearn: 0.0974799\ttotal: 161ms\tremaining: 241ms\n",
      "500:\tlearn: 0.0775857\ttotal: 203ms\tremaining: 202ms\n",
      "600:\tlearn: 0.0631273\ttotal: 243ms\tremaining: 161ms\n",
      "700:\tlearn: 0.0511265\ttotal: 282ms\tremaining: 120ms\n",
      "800:\tlearn: 0.0422818\ttotal: 324ms\tremaining: 80.4ms\n",
      "900:\tlearn: 0.0351320\ttotal: 364ms\tremaining: 40ms\n",
      "999:\tlearn: 0.0292609\ttotal: 403ms\tremaining: 0us\n",
      "COG model training is done!\n",
      "the shape of prediction for COG task is  (153,)\n",
      "the shape of prediction for COG task is  (152,)\n"
     ]
    }
   ],
   "source": [
    "from nonImg_model_wrappers import NonImg_Model_Wrapper, Fusion_Model_Wrapper\n",
    "import json\n",
    "def read_json(config_file):\n",
    "    with open(config_file) as config_buffer:\n",
    "        config = json.loads(config_buffer.read())\n",
    "    return config\n",
    "\n",
    "def crossValid_nonImg(main_config, task_config, tasks, shap_analysis=True):\n",
    "    model_name = main_config['model_name']\n",
    "    csv_dir = main_config['csv_dir']\n",
    "    shap, data = [], []\n",
    "    for i in range(5):\n",
    "        main_config['csv_dir'] = csv_dir + 'cross{}/'.format(i)\n",
    "        main_config['model_name'] = model_name + '_cross{}'.format(i)\n",
    "        model = NonImg_Model_Wrapper(tasks=tasks,\n",
    "                                     main_config=main_config,\n",
    "                                     task_config=task_config,\n",
    "                                     seed=1000)\n",
    "        model.train()\n",
    "        thres = model.get_optimal_thres()\n",
    "        model.gen_score(['test'], thres)#, 'OASIS'                \n",
    "\n",
    "crossValid_nonImg(tasks=['COG'],#, 'ADD'\n",
    "                      main_config=read_json('config.json'),\n",
    "                      task_config=read_json('nonImg_task_config.json'))        \n"
   ]
  },
  {
   "cell_type": "code",
   "execution_count": 3,
   "metadata": {},
   "outputs": [
    {
     "name": "stdout",
     "output_type": "stream",
     "text": [
      "Learning rate set to 0.036228\n",
      "0:\tlearn: 0.6918790\ttotal: 1.22ms\tremaining: 1.22s\n",
      "100:\tlearn: 0.2438571\ttotal: 43.4ms\tremaining: 387ms\n",
      "200:\tlearn: 0.1862170\ttotal: 87.2ms\tremaining: 346ms\n",
      "300:\tlearn: 0.1480544\ttotal: 139ms\tremaining: 322ms\n",
      "400:\tlearn: 0.1195621\ttotal: 190ms\tremaining: 284ms\n",
      "500:\tlearn: 0.0945044\ttotal: 236ms\tremaining: 235ms\n",
      "600:\tlearn: 0.0759277\ttotal: 282ms\tremaining: 187ms\n",
      "700:\tlearn: 0.0618895\ttotal: 328ms\tremaining: 140ms\n",
      "800:\tlearn: 0.0501660\ttotal: 379ms\tremaining: 94.1ms\n",
      "900:\tlearn: 0.0417279\ttotal: 430ms\tremaining: 47.2ms\n",
      "999:\tlearn: 0.0345691\ttotal: 479ms\tremaining: 0us\n",
      "COG model training is done!\n"
     ]
    }
   ],
   "source": [
    "from nonImg_model_wrappers import NonImg_Model_Wrapper, Fusion_Model_Wrapper\n",
    "from utils import read_json\n",
    "\n",
    "model = NonImg_Model_Wrapper(\n",
    "    tasks=['COG'],                            # a list of tasks to predict\n",
    "    main_config={\"csv_dir\": \"data/Cross_valid/cross0/\", \"model_name\": \"CNN_baseline_new_cross0\"},            # general configuration for the experiment  \n",
    "    task_config=read_json('nonImg_task_config.json'),       # task specific configurations\n",
    "    seed=1000\n",
    ")                                       \n",
    "model.train()                                                            \n",
    "# thres = model.get_optimal_thres()                    # get optimal threshold using validation dataset\n",
    "# model.gen_score(['test'], thres)     "
   ]
  },
  {
   "cell_type": "code",
   "execution_count": null,
   "metadata": {},
   "outputs": [],
   "source": []
  },
  {
   "cell_type": "code",
   "execution_count": 5,
   "metadata": {},
   "outputs": [
    {
     "data": {
      "text/plain": [
       "0.914804972093701"
      ]
     },
     "execution_count": 5,
     "metadata": {},
     "output_type": "execute_result"
    }
   ],
   "source": [
    "from performance_eval import generate_roc, generate_pr\n",
    "generate_roc(\n",
    "    ['log/CNN_baseline_new_cross0/test_eval.csv','log/CNN_baseline_new_cross1/test_eval.csv','log/CNN_baseline_new_cross2/test_eval.csv',\n",
    "    'log/CNN_baseline_new_cross3/test_eval.csv','log/CNN_baseline_new_cross4/test_eval.csv'],              # list[csvfiles] produced from \"gen_score\". Mean and std are estimated from cross-validation experiments  \n",
    "    'DE', \n",
    "    'red', \n",
    "    'ADNI_test_DE_roc'\n",
    ")\n",
    "generate_pr(\n",
    "    ['log/CNN_baseline_new_cross0/test_eval.csv','log/CNN_baseline_new_cross1/test_eval.csv','log/CNN_baseline_new_cross2/test_eval.csv',\n",
    "    'log/CNN_baseline_new_cross3/test_eval.csv','log/CNN_baseline_new_cross4/test_eval.csv'],              # list[csvfiles] produced from \"gen_score\". Mean and std are estimated from cross-validation experiments \n",
    "    'DE', \n",
    "    'red', \n",
    "    'ADNI_test_DE_pr'\n",
    ")"
   ]
  },
  {
   "cell_type": "code",
   "execution_count": 6,
   "metadata": {},
   "outputs": [
    {
     "data": {
      "text/plain": [
       "0.9014511126544462"
      ]
     },
     "execution_count": 6,
     "metadata": {},
     "output_type": "execute_result"
    }
   ],
   "source": [
    "from performance_eval import generate_roc, generate_pr\n",
    "generate_roc(\n",
    "    ['log/CNN_baseline_new_cross0/valid_eval.csv','log/CNN_baseline_new_cross1/valid_eval.csv','log/CNN_baseline_new_cross2/valid_eval.csv','log/CNN_baseline_new_cross3/valid_eval.csv','log/CNN_baseline_new_cross4/valid_eval.csv'],              # list[csvfiles] produced from \"gen_score\". Mean and std are estimated from cross-validation experiments  \n",
    "    'DE', \n",
    "    'red', \n",
    "    'ADNI_valid_DE_roc'\n",
    ")\n",
    "generate_pr(\n",
    "    ['log/CNN_baseline_new_cross0/valid_eval.csv','log/CNN_baseline_new_cross1/valid_eval.csv','log/CNN_baseline_new_cross2/valid_eval.csv','log/CNN_baseline_new_cross3/valid_eval.csv','log/CNN_baseline_new_cross4/valid_eval.csv'],              # list[csvfiles] produced from \"gen_score\". Mean and std are estimated from cross-validation experiments \n",
    "    'DE', \n",
    "    'red', \n",
    "    'ADNI_valid_DE_pr'\n",
    ")"
   ]
  },
  {
   "cell_type": "code",
   "execution_count": 7,
   "metadata": {},
   "outputs": [
    {
     "ename": "ModuleNotFoundError",
     "evalue": "No module named 'model_wrappers'",
     "output_type": "error",
     "traceback": [
      "\u001b[0;31m---------------------------------------------------------------------------\u001b[0m",
      "\u001b[0;31mModuleNotFoundError\u001b[0m                       Traceback (most recent call last)",
      "Cell \u001b[0;32mIn[7], line 1\u001b[0m\n\u001b[0;32m----> 1\u001b[0m \u001b[38;5;28;01mfrom\u001b[39;00m \u001b[38;5;21;01mmodel_wrappers\u001b[39;00m \u001b[38;5;28;01mimport\u001b[39;00m Multask_Wrapper\n\u001b[1;32m      2\u001b[0m \u001b[38;5;28;01mfrom\u001b[39;00m \u001b[38;5;21;01mutils\u001b[39;00m \u001b[38;5;28;01mimport\u001b[39;00m read_json\n\u001b[1;32m      4\u001b[0m model \u001b[38;5;241m=\u001b[39m Multask_Wrapper(\n\u001b[1;32m      5\u001b[0m     tasks\u001b[38;5;241m=\u001b[39m[\u001b[38;5;124m'\u001b[39m\u001b[38;5;124mCOG\u001b[39m\u001b[38;5;124m'\u001b[39m],                            \u001b[38;5;66;03m# a list of tasks to predict\u001b[39;00m\n\u001b[1;32m      6\u001b[0m     device\u001b[38;5;241m=\u001b[39m\u001b[38;5;241m0\u001b[39m,                                        \u001b[38;5;66;03m# GPU device to use\u001b[39;00m\n\u001b[0;32m   (...)\u001b[0m\n\u001b[1;32m      9\u001b[0m     seed\u001b[38;5;241m=\u001b[39m\u001b[38;5;241m1000\u001b[39m\n\u001b[1;32m     10\u001b[0m )                                       \n",
      "\u001b[0;31mModuleNotFoundError\u001b[0m: No module named 'model_wrappers'"
     ]
    }
   ],
   "source": [
    "from model_wrappers import Multask_Wrapper\n",
    "from utils import read_json\n",
    "\n",
    "model = Multask_Wrapper(\n",
    "    tasks=['COG'],                            # a list of tasks to predict\n",
    "    device=0,                                        # GPU device to use\n",
    "    main_config={\"csv_dir\": \"lookupcsv/CrossValid/cross0/\", \"model_name\": \"CNN_baseline_new_cross0\"},             # general configuration for the experiment  \n",
    "    task_config=read_json('task_config_ADNI.json'),       # task specific configurations\n",
    "    seed=1000\n",
    ")                                       \n",
    "model.train()                                                            \n",
    "thres = model.get_optimal_thres()                    # get optimal threshold using validation dataset\n",
    "model.gen_score(['test'], thres)                     # apply optimal threshold on test dataset and cache predictions"
   ]
  },
  {
   "cell_type": "code",
   "execution_count": null,
   "metadata": {},
   "outputs": [],
   "source": []
  },
  {
   "cell_type": "code",
   "execution_count": null,
   "metadata": {},
   "outputs": [],
   "source": []
  },
  {
   "cell_type": "code",
   "execution_count": null,
   "metadata": {},
   "outputs": [],
   "source": []
  },
  {
   "cell_type": "code",
   "execution_count": null,
   "metadata": {},
   "outputs": [],
   "source": []
  }
 ],
 "metadata": {
  "kernelspec": {
   "display_name": "Python 3 (ipykernel)",
   "language": "python",
   "name": "python3"
  },
  "language_info": {
   "codemirror_mode": {
    "name": "ipython",
    "version": 3
   },
   "file_extension": ".py",
   "mimetype": "text/x-python",
   "name": "python",
   "nbconvert_exporter": "python",
   "pygments_lexer": "ipython3",
   "version": "3.9.16"
  }
 },
 "nbformat": 4,
 "nbformat_minor": 4
}
